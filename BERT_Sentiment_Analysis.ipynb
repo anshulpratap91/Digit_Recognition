{
  "nbformat": 4,
  "nbformat_minor": 0,
  "metadata": {
    "colab": {
      "name": "BERT - Sentiment Analysis.ipynb",
      "provenance": [],
      "collapsed_sections": [],
      "authorship_tag": "ABX9TyOo+O8/sO/6sENbad0iuaA5",
      "include_colab_link": true
    },
    "kernelspec": {
      "name": "python3",
      "display_name": "Python 3"
    },
    "language_info": {
      "name": "python"
    },
    "accelerator": "GPU"
  },
  "cells": [
    {
      "cell_type": "markdown",
      "metadata": {
        "id": "view-in-github",
        "colab_type": "text"
      },
      "source": [
        "<a href=\"https://colab.research.google.com/github/anshulpratap91/Python_ML_Codes/blob/main/BERT_Sentiment_Analysis.ipynb\" target=\"_parent\"><img src=\"https://colab.research.google.com/assets/colab-badge.svg\" alt=\"Open In Colab\"/></a>"
      ]
    },
    {
      "cell_type": "code",
      "execution_count": null,
      "metadata": {
        "id": "boxOEcO6WUuW"
      },
      "outputs": [],
      "source": [
        "#import libraries\n",
        "import os\n",
        "import tensorflow as tf\n",
        "import tensorflow_hub as hub\n",
        "!pip install tensorflow_text\n",
        "import tensorflow_text as text\n",
        "import pandas as pd\n",
        "import numpy as np\n",
        "import matplotlib.pyplot as plt\n",
        "import shutil"
      ]
    },
    {
      "cell_type": "code",
      "source": [
        "#download IMDB dataset\n",
        "url = 'https://ai.stanford.edu/~amaas/data/sentiment/aclImdb_v1.tar.gz'\n",
        "dataset = tf.keras.utils.get_file(fname=\"aclImdb_v1.tar.gz\",origin=url,untar=True)"
      ],
      "metadata": {
        "id": "UIA7cv7JWWAd"
      },
      "execution_count": null,
      "outputs": []
    },
    {
      "cell_type": "code",
      "source": [
        "#load the dataset\n",
        "dataset_dir = os.path.join(os.path.dirname(dataset),'aclImdb')\n",
        "train_dir=os.path.join(dataset_dir,'train')\n",
        "test_dir=os.path.join(dataset_dir,'test')\n",
        "\n",
        "#remove unwanted directories \n",
        "remove_dir = os.path.join(train_dir, 'unsup')\n",
        "shutil.rmtree(remove_dir)"
      ],
      "metadata": {
        "id": "EsRtCHIwWV64"
      },
      "execution_count": 4,
      "outputs": []
    },
    {
      "cell_type": "code",
      "source": [
        "#load hyperparameters\n",
        "validation=0.2\n",
        "seed=42\n",
        "#create training dataset by loading text from train directory, training data set and validation dataset are split\n",
        "raw_train_ds=tf.keras.utils.text_dataset_from_directory(train_dir,batch_size=32,validation_split=validation,seed=seed,subset='training')"
      ],
      "metadata": {
        "colab": {
          "base_uri": "https://localhost:8080/"
        },
        "id": "R9Mr4kyGWV3V",
        "outputId": "8b87fff3-8231-4510-f260-6722351d1ea2"
      },
      "execution_count": 5,
      "outputs": [
        {
          "output_type": "stream",
          "name": "stdout",
          "text": [
            "Found 25000 files belonging to 2 classes.\n",
            "Using 20000 files for training.\n"
          ]
        }
      ]
    },
    {
      "cell_type": "code",
      "source": [
        "#create validation data   \n",
        "raw_val_ds=tf.keras.utils.text_dataset_from_directory(train_dir,subset='validation',validation_split=validation,seed=seed)"
      ],
      "metadata": {
        "colab": {
          "base_uri": "https://localhost:8080/"
        },
        "id": "cqejxOyUeuUU",
        "outputId": "28456cf6-054a-4e74-9efd-7ec0ee839524"
      },
      "execution_count": 6,
      "outputs": [
        {
          "output_type": "stream",
          "name": "stdout",
          "text": [
            "Found 25000 files belonging to 2 classes.\n",
            "Using 5000 files for validation.\n"
          ]
        }
      ]
    },
    {
      "cell_type": "code",
      "source": [
        "#create test dataset\n",
        "raw_test_ds=tf.keras.utils.text_dataset_from_directory(test_dir)"
      ],
      "metadata": {
        "colab": {
          "base_uri": "https://localhost:8080/"
        },
        "id": "fRkGSgHFWV0L",
        "outputId": "e3bddf2b-f121-4c98-d844-a473382f727e"
      },
      "execution_count": 7,
      "outputs": [
        {
          "output_type": "stream",
          "name": "stdout",
          "text": [
            "Found 25000 files belonging to 2 classes.\n"
          ]
        }
      ]
    },
    {
      "cell_type": "code",
      "source": [
        "#assign BERT model URLs \n",
        "bert_url='https://tfhub.dev/tensorflow/bert_en_uncased_L-12_H-768_A-12/4'\n",
        "preprocess_url='https://tfhub.dev/tensorflow/bert_en_uncased_preprocess/3'"
      ],
      "metadata": {
        "id": "O9IM9pp-WVxj"
      },
      "execution_count": 8,
      "outputs": []
    },
    {
      "cell_type": "code",
      "source": [
        "#load preprocess and BERT model\n",
        "bert_preprocess_model=hub.KerasLayer(preprocess_url,name='bert_preprocess')"
      ],
      "metadata": {
        "id": "fnosM5YUWVum"
      },
      "execution_count": 9,
      "outputs": []
    },
    {
      "cell_type": "code",
      "source": [
        "bert_model=hub.KerasLayer(bert_url, name='bert_model')"
      ],
      "metadata": {
        "id": "VgJeh3JaWVrr"
      },
      "execution_count": 10,
      "outputs": []
    },
    {
      "cell_type": "code",
      "source": [
        "  #create model architecture\n",
        "  text_input = tf.keras.layers.Input(shape=(),name='input_layer',dtype=tf.string)\n",
        "  preprocessed_text = bert_preprocess_model(text_input)\n",
        "  output=bert_model(preprocessed_text)\n",
        "  l = tf.keras.layers.Dropout(0.1,name='dropout')(output['pooled_output'])\n",
        "  l=tf.keras.layers.Dense(1,activation='sigmoid',name='output')(l)\n",
        "\n",
        "  model = tf.keras.Model(inputs=[text_input], outputs=[l])\n",
        "  model.summary()"
      ],
      "metadata": {
        "colab": {
          "base_uri": "https://localhost:8080/"
        },
        "id": "yUs8Ar8IWVi-",
        "outputId": "53ab6e4c-a5e2-4c11-b400-97c7176f4ff9"
      },
      "execution_count": 11,
      "outputs": [
        {
          "output_type": "stream",
          "name": "stdout",
          "text": [
            "Model: \"model\"\n",
            "__________________________________________________________________________________________________\n",
            " Layer (type)                   Output Shape         Param #     Connected to                     \n",
            "==================================================================================================\n",
            " input_layer (InputLayer)       [(None,)]            0           []                               \n",
            "                                                                                                  \n",
            " bert_preprocess (KerasLayer)   {'input_mask': (Non  0           ['input_layer[0][0]']            \n",
            "                                e, 128),                                                          \n",
            "                                 'input_word_ids':                                                \n",
            "                                (None, 128),                                                      \n",
            "                                 'input_type_ids':                                                \n",
            "                                (None, 128)}                                                      \n",
            "                                                                                                  \n",
            " bert_model (KerasLayer)        {'sequence_output':  109482241   ['bert_preprocess[0][0]',        \n",
            "                                 (None, 128, 768),                'bert_preprocess[0][1]',        \n",
            "                                 'encoder_outputs':               'bert_preprocess[0][2]']        \n",
            "                                 [(None, 128, 768),                                               \n",
            "                                 (None, 128, 768),                                                \n",
            "                                 (None, 128, 768),                                                \n",
            "                                 (None, 128, 768),                                                \n",
            "                                 (None, 128, 768),                                                \n",
            "                                 (None, 128, 768),                                                \n",
            "                                 (None, 128, 768),                                                \n",
            "                                 (None, 128, 768),                                                \n",
            "                                 (None, 128, 768),                                                \n",
            "                                 (None, 128, 768),                                                \n",
            "                                 (None, 128, 768),                                                \n",
            "                                 (None, 128, 768)],                                               \n",
            "                                 'default': (None,                                                \n",
            "                                768),                                                             \n",
            "                                 'pooled_output': (                                               \n",
            "                                None, 768)}                                                       \n",
            "                                                                                                  \n",
            " dropout (Dropout)              (None, 768)          0           ['bert_model[0][13]']            \n",
            "                                                                                                  \n",
            " output (Dense)                 (None, 1)            769         ['dropout[0][0]']                \n",
            "                                                                                                  \n",
            "==================================================================================================\n",
            "Total params: 109,483,010\n",
            "Trainable params: 769\n",
            "Non-trainable params: 109,482,241\n",
            "__________________________________________________________________________________________________\n"
          ]
        }
      ]
    },
    {
      "cell_type": "code",
      "source": [
        "#define model optimizer and loss function\n",
        "model.compile(\n",
        "    optimizer='adam',\n",
        "    loss='binary_crossentropy',\n",
        "    metrics=['accuracy']\n",
        ")"
      ],
      "metadata": {
        "id": "mWS6Q1W4WVf7"
      },
      "execution_count": 12,
      "outputs": []
    },
    {
      "cell_type": "code",
      "source": [
        "tf.keras.utils.plot_model(model)"
      ],
      "metadata": {
        "colab": {
          "base_uri": "https://localhost:8080/",
          "height": 466
        },
        "id": "YjMJUWMHWVdB",
        "outputId": "b228c414-9efa-46b1-e654-3bf7b2f44f4e"
      },
      "execution_count": 13,
      "outputs": [
        {
          "output_type": "execute_result",
          "data": {
            "image/png": "[encoded data removed]",
            "text/plain": [
              "<IPython.core.display.Image object>"
            ]
          },
          "metadata": {},
          "execution_count": 13
        }
      ]
    },
    {
      "cell_type": "code",
      "source": [
        "#run the model for 3 epochs\n",
        "model.fit(raw_test_ds,validation_data=raw_val_ds,epochs=3)"
      ],
      "metadata": {
        "colab": {
          "base_uri": "https://localhost:8080/"
        },
        "id": "QrxAviKq6Z_4",
        "outputId": "2b74296c-5b92-4176-932a-fb929780ff52"
      },
      "execution_count": 14,
      "outputs": [
        {
          "output_type": "stream",
          "name": "stdout",
          "text": [
            "Epoch 1/3\n",
            "782/782 [==============================] - 579s 725ms/step - loss: 0.6279 - accuracy: 0.6462 - val_loss: 0.5773 - val_accuracy: 0.7162\n",
            "Epoch 2/3\n",
            "782/782 [==============================] - 564s 721ms/step - loss: 0.5672 - accuracy: 0.7129 - val_loss: 0.5410 - val_accuracy: 0.7470\n",
            "Epoch 3/3\n",
            "782/782 [==============================] - 563s 720ms/step - loss: 0.5453 - accuracy: 0.7288 - val_loss: 0.5451 - val_accuracy: 0.7254\n"
          ]
        },
        {
          "output_type": "execute_result",
          "data": {
            "text/plain": [
              "<keras.callbacks.History at 0x7ff5e5bfb0d0>"
            ]
          },
          "metadata": {},
          "execution_count": 14
        }
      ]
    },
    {
      "cell_type": "code",
      "source": [
        "#calculate model loss and accuracy\n",
        "loss,accuracy = model.evaluate(raw_test_ds)\n",
        "print(\"loss :\",loss)\n",
        "print(\"accuracy:\",accuracy)"
      ],
      "metadata": {
        "colab": {
          "base_uri": "https://localhost:8080/"
        },
        "id": "JIthilTY8BY_",
        "outputId": "8e04604c-eddd-4c61-c113-89ccc7c23ba2"
      },
      "execution_count": 16,
      "outputs": [
        {
          "output_type": "stream",
          "name": "stdout",
          "text": [
            "782/782 [==============================] - 469s 600ms/step - loss: 0.5438 - accuracy: 0.7214\n",
            "loss : 0.5437777638435364\n",
            "accuracy: 0.7214400172233582\n"
          ]
        }
      ]
    },
    {
      "cell_type": "code",
      "source": [
        ""
      ],
      "metadata": {
        "id": "wa61TCqUpcEw"
      },
      "execution_count": null,
      "outputs": []
    }
  ]
}
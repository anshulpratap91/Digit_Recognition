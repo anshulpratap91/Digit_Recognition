{
  "nbformat": 4,
  "nbformat_minor": 0,
  "metadata": {
    "colab": {
      "name": "Image Classification",
      "provenance": [],
      "authorship_tag": "ABX9TyMo2u4x8qkuAYQ/gGSiz6uy",
      "include_colab_link": true
    },
    "kernelspec": {
      "display_name": "Python 3",
      "name": "python3"
    },
    "language_info": {
      "name": "python"
    },
    "accelerator": "GPU"
  },
  "cells": [
    {
      "cell_type": "markdown",
      "metadata": {
        "id": "view-in-github",
        "colab_type": "text"
      },
      "source": [
        "<a href=\"https://colab.research.google.com/github/anshulpratap91/Digit_Recognition/blob/main/Image_Classification_CIFAR10.ipynb\" target=\"_parent\"><img src=\"https://colab.research.google.com/assets/colab-badge.svg\" alt=\"Open In Colab\"/></a>"
      ]
    },
    {
      "cell_type": "code",
      "metadata": {
        "id": "b7_F6EvnBqiq"
      },
      "source": [
        "#import necessary libraries\n",
        "import numpy as np\n",
        "import pandas as pd\n",
        "import tensorflow as tf\n",
        "from tensorflow import keras\n",
        "from keras.datasets import cifar10"
      ],
      "execution_count": 1,
      "outputs": []
    },
    {
      "cell_type": "code",
      "metadata": {
        "colab": {
          "base_uri": "https://localhost:8080/"
        },
        "id": "AvOfY-hxFacy",
        "outputId": "18eea2e6-f82f-4165-deb9-95df04026a55"
      },
      "source": [
        "#load CIFAR10 data\n",
        "(trainX, trainy), (testX, testy) = cifar10.load_data()"
      ],
      "execution_count": 2,
      "outputs": [
        {
          "output_type": "stream",
          "name": "stdout",
          "text": [
            "Downloading data from https://www.cs.toronto.edu/~kriz/cifar-10-python.tar.gz\n",
            "170500096/170498071 [==============================] - 6s 0us/step\n",
            "170508288/170498071 [==============================] - 6s 0us/step\n"
          ]
        }
      ]
    },
    {
      "cell_type": "markdown",
      "metadata": {
        "id": "Ro8hvmAZUrUE"
      },
      "source": [
        ""
      ]
    },
    {
      "cell_type": "code",
      "metadata": {
        "id": "lv9ZEloWFdsh"
      },
      "source": [
        "#normalize datasets\n",
        "trainx_norm=trainX/255\n",
        "testx_norm=testX/255"
      ],
      "execution_count": 3,
      "outputs": []
    },
    {
      "cell_type": "code",
      "metadata": {
        "id": "N1HWeEghMrYx"
      },
      "source": [
        "#1st scenario : create ANN model using Keras\n",
        "model=keras.Sequential([\n",
        "                        keras.layers.Flatten(input_shape=(32,32,3)),\n",
        "                        keras.layers.Dense(1000,activation='relu'),\n",
        "                        keras.layers.Dense(500,activation='relu'),\n",
        "                        keras.layers.Dense(10,activation='sigmoid')\n",
        "])"
      ],
      "execution_count": 4,
      "outputs": []
    },
    {
      "cell_type": "code",
      "metadata": {
        "id": "d2j6XbIPMtiQ"
      },
      "source": [
        "#compile the model\n",
        "model.compile(optimizer='adam',loss='sparse_categorical_crossentropy',metrics=['accuracy'])"
      ],
      "execution_count": 5,
      "outputs": []
    },
    {
      "cell_type": "code",
      "metadata": {
        "id": "mKk4WxfENnmI",
        "colab": {
          "base_uri": "https://localhost:8080/"
        },
        "outputId": "7a57c9f2-3c32-4adc-dbed-d354c78329c9"
      },
      "source": [
        "#run the model for 15 epochs\n",
        "model.fit(trainx_norm,trainy,epochs=15)"
      ],
      "execution_count": 6,
      "outputs": [
        {
          "output_type": "stream",
          "name": "stdout",
          "text": [
            "Epoch 1/15\n",
            "1563/1563 [==============================] - 11s 5ms/step - loss: 1.8547 - accuracy: 0.3297\n",
            "Epoch 2/15\n",
            "1563/1563 [==============================] - 8s 5ms/step - loss: 1.6639 - accuracy: 0.4024\n",
            "Epoch 3/15\n",
            "1563/1563 [==============================] - 8s 5ms/step - loss: 1.5881 - accuracy: 0.4317\n",
            "Epoch 4/15\n",
            "1563/1563 [==============================] - 8s 5ms/step - loss: 1.5350 - accuracy: 0.4498\n",
            "Epoch 5/15\n",
            "1563/1563 [==============================] - 8s 5ms/step - loss: 1.5006 - accuracy: 0.4609\n",
            "Epoch 6/15\n",
            "1563/1563 [==============================] - 8s 5ms/step - loss: 1.4697 - accuracy: 0.4751\n",
            "Epoch 7/15\n",
            "1563/1563 [==============================] - 8s 5ms/step - loss: 1.4457 - accuracy: 0.4820\n",
            "Epoch 8/15\n",
            "1563/1563 [==============================] - 8s 5ms/step - loss: 1.4251 - accuracy: 0.4905\n",
            "Epoch 9/15\n",
            "1563/1563 [==============================] - 8s 5ms/step - loss: 1.4034 - accuracy: 0.4984\n",
            "Epoch 10/15\n",
            "1563/1563 [==============================] - 8s 5ms/step - loss: 1.3830 - accuracy: 0.5050\n",
            "Epoch 11/15\n",
            "1563/1563 [==============================] - 8s 5ms/step - loss: 1.3679 - accuracy: 0.5097\n",
            "Epoch 12/15\n",
            "1563/1563 [==============================] - 8s 5ms/step - loss: 1.3536 - accuracy: 0.5125\n",
            "Epoch 13/15\n",
            "1563/1563 [==============================] - 8s 5ms/step - loss: 1.3429 - accuracy: 0.5213\n",
            "Epoch 14/15\n",
            "1563/1563 [==============================] - 8s 5ms/step - loss: 1.3294 - accuracy: 0.5215\n",
            "Epoch 15/15\n",
            "1563/1563 [==============================] - 8s 5ms/step - loss: 1.3117 - accuracy: 0.5298\n"
          ]
        },
        {
          "output_type": "execute_result",
          "data": {
            "text/plain": [
              "<keras.callbacks.History at 0x7fd9700f3290>"
            ]
          },
          "metadata": {},
          "execution_count": 6
        }
      ]
    },
    {
      "cell_type": "code",
      "metadata": {
        "id": "-M9XWaDEWyOs"
      },
      "source": [
        "#2nd scenario : create CNN model\n",
        "cnn=keras.Sequential([\n",
        "                     keras.layers.Conv2D(filters=64,kernel_size=(3,3),activation='relu',input_shape=(32,32,3)),\n",
        "                     keras.layers.MaxPool2D(2,2),\n",
        "\n",
        "                     keras.layers.Conv2D(filters=32,kernel_size=(3,3),activation='relu'),\n",
        "                     keras.layers.MaxPool2D(2,2),\n",
        "\n",
        "                     keras.layers.Flatten(),\n",
        "                     keras.layers.Dense(1000,activation='relu'),\n",
        "                     keras.layers.Dense(500,activation='relu'),\n",
        "                     keras.layers.Dense(10,activation='sigmoid')                       \n",
        "])"
      ],
      "execution_count": 7,
      "outputs": []
    },
    {
      "cell_type": "code",
      "metadata": {
        "id": "uj2NQT_HajHT"
      },
      "source": [
        "cnn.compile(optimizer='adam',loss='sparse_categorical_crossentropy',metrics=['accuracy'])"
      ],
      "execution_count": 8,
      "outputs": []
    },
    {
      "cell_type": "code",
      "metadata": {
        "colab": {
          "base_uri": "https://localhost:8080/"
        },
        "id": "69voTLWfbCX0",
        "outputId": "e6aa2799-abe8-4101-b214-026dee57f7f5"
      },
      "source": [
        "cnn.fit(trainx_norm,trainy,epochs=15)"
      ],
      "execution_count": 9,
      "outputs": [
        {
          "output_type": "stream",
          "name": "stdout",
          "text": [
            "Epoch 1/15\n",
            "1563/1563 [==============================] - 39s 8ms/step - loss: 1.4632 - accuracy: 0.4678\n",
            "Epoch 2/15\n",
            "1563/1563 [==============================] - 11s 7ms/step - loss: 1.0934 - accuracy: 0.6131\n",
            "Epoch 3/15\n",
            "1563/1563 [==============================] - 11s 7ms/step - loss: 0.9065 - accuracy: 0.6822\n",
            "Epoch 4/15\n",
            "1563/1563 [==============================] - 11s 7ms/step - loss: 0.7557 - accuracy: 0.7326\n",
            "Epoch 5/15\n",
            "1563/1563 [==============================] - 11s 7ms/step - loss: 0.6241 - accuracy: 0.7786\n",
            "Epoch 6/15\n",
            "1563/1563 [==============================] - 11s 7ms/step - loss: 0.4946 - accuracy: 0.8235\n",
            "Epoch 7/15\n",
            "1563/1563 [==============================] - 11s 7ms/step - loss: 0.3795 - accuracy: 0.8640\n",
            "Epoch 8/15\n",
            "1563/1563 [==============================] - 11s 7ms/step - loss: 0.2918 - accuracy: 0.8956\n",
            "Epoch 9/15\n",
            "1563/1563 [==============================] - 11s 7ms/step - loss: 0.2206 - accuracy: 0.9210\n",
            "Epoch 10/15\n",
            "1563/1563 [==============================] - 11s 7ms/step - loss: 0.1872 - accuracy: 0.9348\n",
            "Epoch 11/15\n",
            "1563/1563 [==============================] - 11s 7ms/step - loss: 0.1553 - accuracy: 0.9462\n",
            "Epoch 12/15\n",
            "1563/1563 [==============================] - 11s 7ms/step - loss: 0.1367 - accuracy: 0.9525\n",
            "Epoch 13/15\n",
            "1563/1563 [==============================] - 11s 7ms/step - loss: 0.1266 - accuracy: 0.9563\n",
            "Epoch 14/15\n",
            "1563/1563 [==============================] - 11s 7ms/step - loss: 0.1216 - accuracy: 0.9592\n",
            "Epoch 15/15\n",
            "1563/1563 [==============================] - 11s 7ms/step - loss: 0.1087 - accuracy: 0.9638\n"
          ]
        },
        {
          "output_type": "execute_result",
          "data": {
            "text/plain": [
              "<keras.callbacks.History at 0x7fd9057c7650>"
            ]
          },
          "metadata": {},
          "execution_count": 9
        }
      ]
    },
    {
      "cell_type": "code",
      "metadata": {
        "id": "mMBVvdI2bV7J"
      },
      "source": [
        "#3rd scenario : crate SVM model with custom parameters\n",
        "from sklearn.svm import SVC\n",
        "svc_model = SVC(C=1, kernel='linear', gamma=\"auto\")"
      ],
      "execution_count": 10,
      "outputs": []
    },
    {
      "cell_type": "code",
      "metadata": {
        "id": "tWvK5zIQkuz8"
      },
      "source": [
        "#reshape test and train input vectors and extract a sample of 10K entries\n",
        "trainX_new_shape = np.reshape(trainx_norm, (trainx_norm.shape[0], -1))\n",
        "testX_new_shape = np.reshape(testx_norm, (testx_norm.shape[0], -1))\n",
        "\n",
        "trainy_new_shape= np.reshape(trainy,(50000,))\n",
        "\n",
        "trainX_new_shape1 = trainX_new_shape[:10000,:]\n",
        "testX_new_shape1 = testX_new_shape[:10000,:]\n",
        "\n",
        "trainy_new_shape1 = trainy_new_shape[:10000]\n",
        "testy_new_shape1 = testy[:10000]\n"
      ],
      "execution_count": 11,
      "outputs": []
    },
    {
      "cell_type": "code",
      "metadata": {
        "colab": {
          "base_uri": "https://localhost:8080/"
        },
        "id": "GRSZrUNjk5bS",
        "outputId": "8fe85134-43f2-4a91-f5ae-1d2155d91636"
      },
      "source": [
        "svc_model.fit(trainX_new_shape1,trainy_new_shape1)"
      ],
      "execution_count": 12,
      "outputs": [
        {
          "output_type": "execute_result",
          "data": {
            "text/plain": [
              "SVC(C=1, break_ties=False, cache_size=200, class_weight=None, coef0=0.0,\n",
              "    decision_function_shape='ovr', degree=3, gamma='auto', kernel='linear',\n",
              "    max_iter=-1, probability=False, random_state=None, shrinking=True,\n",
              "    tol=0.001, verbose=False)"
            ]
          },
          "metadata": {},
          "execution_count": 12
        }
      ]
    },
    {
      "cell_type": "code",
      "metadata": {
        "id": "cURfiI8hm9W5"
      },
      "source": [
        "y_predict=svc_model.predict(testX_new_shape1)"
      ],
      "execution_count": 13,
      "outputs": []
    },
    {
      "cell_type": "code",
      "metadata": {
        "colab": {
          "base_uri": "https://localhost:8080/"
        },
        "id": "ozi4--Nfmsnn",
        "outputId": "abde3bc3-a4cc-40fe-d26d-03c63f9dd301"
      },
      "source": [
        "#load classification report and confusion matrix\n",
        "from sklearn.metrics import classification_report, confusion_matrix,accuracy_score\n",
        "\n",
        "print(confusion_matrix(testy_new_shape1,y_predict))\n",
        "print(classification_report(testy_new_shape1,y_predict))"
      ],
      "execution_count": 14,
      "outputs": [
        {
          "output_type": "stream",
          "name": "stdout",
          "text": [
            "[[420  40 105  38  45  36  17  51 194  54]\n",
            " [ 84 380  63  75  43  47  30  48  94 136]\n",
            " [108  38 307 116 130  85  84  70  35  27]\n",
            " [ 62  66 134 260  93 144 113  59  35  34]\n",
            " [ 69  28 178 103 276  94 109  95  28  20]\n",
            " [ 76  42 147 183 130 219  84  56  44  19]\n",
            " [ 27  41 131 189 114  76 316  54  18  34]\n",
            " [ 66  53 101  93 134  98  43 328  33  51]\n",
            " [215  73  48  44  29  36  16  22 456  61]\n",
            " [113 207  50  68  40  26  35  78 101 282]]\n",
            "              precision    recall  f1-score   support\n",
            "\n",
            "           0       0.34      0.42      0.38      1000\n",
            "           1       0.39      0.38      0.39      1000\n",
            "           2       0.24      0.31      0.27      1000\n",
            "           3       0.22      0.26      0.24      1000\n",
            "           4       0.27      0.28      0.27      1000\n",
            "           5       0.25      0.22      0.24      1000\n",
            "           6       0.37      0.32      0.34      1000\n",
            "           7       0.38      0.33      0.35      1000\n",
            "           8       0.44      0.46      0.45      1000\n",
            "           9       0.39      0.28      0.33      1000\n",
            "\n",
            "    accuracy                           0.32     10000\n",
            "   macro avg       0.33      0.32      0.32     10000\n",
            "weighted avg       0.33      0.32      0.32     10000\n",
            "\n"
          ]
        }
      ]
    }
  ]
}